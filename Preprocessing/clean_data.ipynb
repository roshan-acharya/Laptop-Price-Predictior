{
 "cells": [
  {
   "cell_type": "code",
   "execution_count": 7,
   "id": "981af3aa",
   "metadata": {},
   "outputs": [],
   "source": [
    "import pandas as pd \n",
    "import numpy as np \n",
    "import re\n"
   ]
  },
  {
   "cell_type": "code",
   "execution_count": 8,
   "id": "55f060f9",
   "metadata": {},
   "outputs": [
    {
     "data": {
      "text/plain": [
       "(381, 4)"
      ]
     },
     "execution_count": 8,
     "metadata": {},
     "output_type": "execute_result"
    }
   ],
   "source": [
    "#Import the data\n",
    "df = pd.read_csv('../Data/Raw/mudita_laptops_details.csv')\n",
    "df.shape\n",
    "\n"
   ]
  },
  {
   "cell_type": "code",
   "execution_count": 9,
   "id": "a21ab45a",
   "metadata": {},
   "outputs": [
    {
     "data": {
      "text/plain": [
       "Brand      7\n",
       "Series    78\n",
       "Title      0\n",
       "Price      0\n",
       "dtype: int64"
      ]
     },
     "execution_count": 9,
     "metadata": {},
     "output_type": "execute_result"
    }
   ],
   "source": [
    "df.duplicated().sum()\n",
    "df.isnull().sum()\n",
    "\n"
   ]
  },
  {
   "cell_type": "code",
   "execution_count": 10,
   "id": "23e1561d",
   "metadata": {},
   "outputs": [
    {
     "name": "stdout",
     "output_type": "stream",
     "text": [
      "<class 'pandas.core.frame.DataFrame'>\n",
      "RangeIndex: 381 entries, 0 to 380\n",
      "Data columns (total 4 columns):\n",
      " #   Column  Non-Null Count  Dtype \n",
      "---  ------  --------------  ----- \n",
      " 0   Brand   374 non-null    object\n",
      " 1   Series  303 non-null    object\n",
      " 2   Title   381 non-null    object\n",
      " 3   Price   381 non-null    object\n",
      "dtypes: object(4)\n",
      "memory usage: 12.0+ KB\n"
     ]
    }
   ],
   "source": [
    "df.info()"
   ]
  },
  {
   "cell_type": "code",
   "execution_count": 11,
   "id": "f460a2d6",
   "metadata": {},
   "outputs": [
    {
     "data": {
      "text/html": [
       "<div>\n",
       "<style scoped>\n",
       "    .dataframe tbody tr th:only-of-type {\n",
       "        vertical-align: middle;\n",
       "    }\n",
       "\n",
       "    .dataframe tbody tr th {\n",
       "        vertical-align: top;\n",
       "    }\n",
       "\n",
       "    .dataframe thead th {\n",
       "        text-align: right;\n",
       "    }\n",
       "</style>\n",
       "<table border=\"1\" class=\"dataframe\">\n",
       "  <thead>\n",
       "    <tr style=\"text-align: right;\">\n",
       "      <th></th>\n",
       "      <th>Brand</th>\n",
       "      <th>Series</th>\n",
       "      <th>Title</th>\n",
       "      <th>Price</th>\n",
       "    </tr>\n",
       "  </thead>\n",
       "  <tbody>\n",
       "    <tr>\n",
       "      <th>0</th>\n",
       "      <td>LENOVO</td>\n",
       "      <td>IdeaPad V15-IGL</td>\n",
       "      <td>Lenovo Ideapad 1-14IGL (Intel Core Celeron - N...</td>\n",
       "      <td>रु 32,999.00</td>\n",
       "    </tr>\n",
       "    <tr>\n",
       "      <th>1</th>\n",
       "      <td>Dell</td>\n",
       "      <td>Wyse</td>\n",
       "      <td>Dell Wyse 5470 (Intel Celeron Processor | 8GB ...</td>\n",
       "      <td>रु 34,999.00</td>\n",
       "    </tr>\n",
       "    <tr>\n",
       "      <th>2</th>\n",
       "      <td>Acer</td>\n",
       "      <td>Aspire Series</td>\n",
       "      <td>Acer Aspire 3 Slimbook (Intel Celeron N4500 Pr...</td>\n",
       "      <td>रु 34,999.00</td>\n",
       "    </tr>\n",
       "    <tr>\n",
       "      <th>3</th>\n",
       "      <td>LENOVO</td>\n",
       "      <td>IdeaPad V15-IGL</td>\n",
       "      <td>Lenovo V15-IGL 2021 (Intel Core Celeron - N402...</td>\n",
       "      <td>रु 36,999.00</td>\n",
       "    </tr>\n",
       "    <tr>\n",
       "      <th>4</th>\n",
       "      <td>Acer</td>\n",
       "      <td>Aspire Series</td>\n",
       "      <td>Acer Aspire 3 15 (Intel Core i3 1215U Processo...</td>\n",
       "      <td>रु 45,999.00</td>\n",
       "    </tr>\n",
       "  </tbody>\n",
       "</table>\n",
       "</div>"
      ],
      "text/plain": [
       "    Brand           Series                                              Title  \\\n",
       "0  LENOVO  IdeaPad V15-IGL  Lenovo Ideapad 1-14IGL (Intel Core Celeron - N...   \n",
       "1    Dell             Wyse  Dell Wyse 5470 (Intel Celeron Processor | 8GB ...   \n",
       "2    Acer    Aspire Series  Acer Aspire 3 Slimbook (Intel Celeron N4500 Pr...   \n",
       "3  LENOVO  IdeaPad V15-IGL  Lenovo V15-IGL 2021 (Intel Core Celeron - N402...   \n",
       "4    Acer    Aspire Series  Acer Aspire 3 15 (Intel Core i3 1215U Processo...   \n",
       "\n",
       "          Price  \n",
       "0  रु 32,999.00  \n",
       "1  रु 34,999.00  \n",
       "2  रु 34,999.00  \n",
       "3  रु 36,999.00  \n",
       "4  रु 45,999.00  "
      ]
     },
     "execution_count": 11,
     "metadata": {},
     "output_type": "execute_result"
    }
   ],
   "source": [
    "df.describe()\n",
    "df.head(5)"
   ]
  },
  {
   "cell_type": "code",
   "execution_count": null,
   "id": "fb9ee295",
   "metadata": {},
   "outputs": [
    {
     "name": "stdout",
     "output_type": "stream",
     "text": [
      "      Brand            Series  \\\n",
      "0    LENOVO   IdeaPad V15-IGL   \n",
      "1      Dell              Wyse   \n",
      "2      Acer     Aspire Series   \n",
      "3    LENOVO   IdeaPad V15-IGL   \n",
      "4      Acer     Aspire Series   \n",
      "..      ...               ...   \n",
      "376    ASUS           ZENBOOK   \n",
      "377   Apple       MacBook Pro   \n",
      "378  Lenovo     Legion Series   \n",
      "379    ASUS  ROG Strix Series   \n",
      "380    Acer      Nitro Series   \n",
      "\n",
      "                                                 Title          Price  \\\n",
      "0    Lenovo Ideapad 1-14IGL (Intel Core Celeron - N...   रु 32,999.00   \n",
      "1    Dell Wyse 5470 (Intel Celeron Processor | 8GB ...   रु 34,999.00   \n",
      "2    Acer Aspire 3 Slimbook (Intel Celeron N4500 Pr...   रु 34,999.00   \n",
      "3    Lenovo V15-IGL 2021 (Intel Core Celeron - N402...   रु 36,999.00   \n",
      "4    Acer Aspire 3 15 (Intel Core i3 1215U Processo...   रु 45,999.00   \n",
      "..                                                 ...            ...   \n",
      "376  Asus Zenbook 17 Fold OLED UX9702 (Intel Core i...  रु 535,000.00   \n",
      "377  Apple MacBook Pro M4 Max Chip (14.2\" (3024 x 1...  रु 545,000.00   \n",
      "378  Lenovo Legion 9 16IRX9 (14th Generation Intel ...  रु 569,999.00   \n",
      "379  ASUS ROG Strix Scar 18 (Intel Core i9 14900HX ...  रु 605,000.00   \n",
      "380  Acer Nitro V 15 2024 (AMD Ryzen 5 7535HS Proce...   रु 88,999.00   \n",
      "\n",
      "          Ram    Storage    Processor  \n",
      "0    16GB RAM  512GB SSD  AMD Ryzen 5  \n",
      "1    16GB RAM  512GB SSD  AMD Ryzen 5  \n",
      "2    16GB RAM  512GB SSD  AMD Ryzen 5  \n",
      "3    16GB RAM  512GB SSD  AMD Ryzen 5  \n",
      "4    16GB RAM  512GB SSD  AMD Ryzen 5  \n",
      "..        ...        ...          ...  \n",
      "376  16GB RAM  512GB SSD  AMD Ryzen 5  \n",
      "377  16GB RAM  512GB SSD  AMD Ryzen 5  \n",
      "378  16GB RAM  512GB SSD  AMD Ryzen 5  \n",
      "379  16GB RAM  512GB SSD  AMD Ryzen 5  \n",
      "380  16GB RAM  512GB SSD  AMD Ryzen 5  \n",
      "\n",
      "[381 rows x 7 columns]\n"
     ]
    }
   ],
   "source": [
    "strings=df['Title']\n",
    "for string in df['Title']:\n",
    "    ram_match = re.search(r'(\\d+\\s*GB\\s*RAM)', string, re.IGNORECASE)\n",
    "    storage_match = re.search(r'(\\d+\\s*GB\\s*SSD)', string, re.IGNORECASE)\n",
    "    graphics_match = re.search(r'([A-Za-z0-9\\s]+(?:GeForce|UHD|Intel|AMD|Radeon|RTX|GTX|Quadro)?\\s*(?:\\d+\\s*GB\\s*)?(?:Graphics?)?)\\s*(?=Graphics)',\n",
    ")\n",
    "    processor_match= re.search(r'(Intel\\s+(?:Core\\s+i[3579]|Celeron|Pentium)|AMD\\s+Ryzen\\s?[3579]?|Ryzen\\s?[3579]?|i[3579]|Apple\\s+M\\d)', string, re.IGNORECASE)\n",
    "     \n",
    "    df['Ram'] = ram_match.group() if ram_match else None\n",
    "    df['Storage'] = storage_match.group() if storage_match else None\n",
    "    df['Graphics'] = graphics_match.group() if graphics_match else None\n",
    "    df['Processor'] = processor_match.group() if processor_match else None\n",
    "\n",
    "print(df)"
   ]
  },
  {
   "cell_type": "code",
   "execution_count": 13,
   "id": "307221af",
   "metadata": {},
   "outputs": [
    {
     "data": {
      "text/plain": [
       "Brand         7\n",
       "Series       78\n",
       "Title         0\n",
       "Price         0\n",
       "Ram           0\n",
       "Storage       0\n",
       "Processor     0\n",
       "dtype: int64"
      ]
     },
     "execution_count": 13,
     "metadata": {},
     "output_type": "execute_result"
    }
   ],
   "source": [
    "df.isnull().sum()\n"
   ]
  },
  {
   "cell_type": "code",
   "execution_count": null,
   "id": "5d89c610",
   "metadata": {},
   "outputs": [
    {
     "data": {
      "text/plain": [
       "np.int64(7)"
      ]
     },
     "execution_count": 16,
     "metadata": {},
     "output_type": "execute_result"
    }
   ],
   "source": [
    "df.head(5)\n",
    "df['Series'].dropna(inplace=True)\n",
    "df['Brand'].fillna('Unknown', inplace=True)"
   ]
  },
  {
   "cell_type": "code",
   "execution_count": null,
   "id": "05a2dd55",
   "metadata": {},
   "outputs": [
    {
     "data": {
      "text/plain": [
       "0      Lenovo Ideapad 1-14IGL (Intel Core Celeron - N...\n",
       "1      Dell Wyse 5470 (Intel Celeron Processor | 8GB ...\n",
       "2      Acer Aspire 3 Slimbook (Intel Celeron N4500 Pr...\n",
       "3      Lenovo V15-IGL 2021 (Intel Core Celeron - N402...\n",
       "4      Acer Aspire 3 15 (Intel Core i3 1215U Processo...\n",
       "                             ...                        \n",
       "376    Asus Zenbook 17 Fold OLED UX9702 (Intel Core i...\n",
       "377    Apple MacBook Pro M4 Max Chip (14.2\" (3024 x 1...\n",
       "378    Lenovo Legion 9 16IRX9 (14th Generation Intel ...\n",
       "379    ASUS ROG Strix Scar 18 (Intel Core i9 14900HX ...\n",
       "380    Acer Nitro V 15 2024 (AMD Ryzen 5 7535HS Proce...\n",
       "Name: Title, Length: 381, dtype: object"
      ]
     },
     "execution_count": 17,
     "metadata": {},
     "output_type": "execute_result"
    }
   ],
   "source": [
    "df['Title']\n"
   ]
  },
  {
   "cell_type": "code",
   "execution_count": null,
   "id": "9a8b0cc9",
   "metadata": {},
   "outputs": [],
   "source": []
  }
 ],
 "metadata": {
  "kernelspec": {
   "display_name": "venv",
   "language": "python",
   "name": "python3"
  },
  "language_info": {
   "codemirror_mode": {
    "name": "ipython",
    "version": 3
   },
   "file_extension": ".py",
   "mimetype": "text/x-python",
   "name": "python",
   "nbconvert_exporter": "python",
   "pygments_lexer": "ipython3",
   "version": "3.13.3"
  }
 },
 "nbformat": 4,
 "nbformat_minor": 5
}
